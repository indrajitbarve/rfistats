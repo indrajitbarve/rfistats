{
 "cells": [
  {
   "cell_type": "code",
   "execution_count": 1,
   "metadata": {
    "collapsed": true
   },
   "outputs": [],
   "source": [
    "import numpy as np\n",
    "from numpy import log10\n",
    "import matplotlib.pyplot as plt\n",
    "%matplotlib qt5\n",
    "\n",
    "import h5py\n",
    "\n",
    "from workprojects.rfistats.filterbank import Filterbank\n",
    "from workprojects.rfistats.block_stats import analyse_block\n",
    "from workprojects.rfistats.filterbank_stats import FilterbankStats\n",
    "from workprojects.rfistats.stats_utils import outlier_mask, robust_std"
   ]
  },
  {
   "cell_type": "code",
   "execution_count": 3,
   "metadata": {
    "collapsed": true
   },
   "outputs": [],
   "source": [
    "fstats = FilterbankStats.load_hdf5('/home/vmorello/repositories/workprojects/rfistats/SCP_stats.h5')"
   ]
  },
  {
   "cell_type": "code",
   "execution_count": 6,
   "metadata": {
    "collapsed": true
   },
   "outputs": [],
   "source": [
    "plt.figure(figsize=(30, 6), dpi=250)\n",
    "plt.imshow(fstats.occupancy, aspect='auto', interpolation='nearest')\n",
    "plt.xlabel('Frequency Channel Index')\n",
    "plt.ylabel('Data Block Index')\n",
    "plt.colorbar()\n",
    "plt.tight_layout()\n",
    "plt.savefig('/home/vmorello/Desktop/occupancy.png')\n",
    "plt.close()"
   ]
  },
  {
   "cell_type": "code",
   "execution_count": 38,
   "metadata": {
    "collapsed": true
   },
   "outputs": [],
   "source": [
    "occ = fstats.time_average('avg_power')\n",
    "\n",
    "plt.figure(figsize=(18, 9))\n",
    "plt.plot(fstats.freqs, sensitivity)\n",
    "plt.xlim(fstats.freqs[0], fstats.freqs[-1])\n",
    "plt.tight_layout()\n",
    "plt.grid()\n",
    "plt.show()\n"
   ]
  },
  {
   "cell_type": "code",
   "execution_count": 11,
   "metadata": {},
   "outputs": [],
   "source": [
    "occupancy = fstats.time_average('occupancy')\n",
    "avg_power = fstats.time_average('avg_power')\n",
    "\n",
    "std = robust_std(avg_power)\n",
    "med = np.median(avg_power)\n",
    "ymin = med - 5*std\n",
    "ymax = med + 50 * std\n",
    "\n",
    "abnormal_power = med + 5 * std\n",
    "\n",
    "\n",
    "badmask = (occupancy > 0.01) | (avg_power > med + 5*std)\n",
    "badchans = np.where(badmask)[0]\n",
    "\n",
    "boundary_freqs = np.concatenate((fstats.freqs, [fstats.freqs[-1] + fstats.df])) - fstats.df/2.0\n",
    "boundary_freqs_badmask = np.zeros(boundary_freqs.size, dtype=bool)\n",
    "#boundary_freqs_badmask[badchans-1] = True \n",
    "boundary_freqs_badmask[badchans] = True \n",
    "boundary_freqs_badmask[badchans+1] = True \n",
    "\n",
    "plt.figure(figsize=(36,6))\n",
    "\n",
    "ax1 = plt.gca()\n",
    "ax1.plot(fstats.freqs, occupancy, color='b', alpha=0.5, label='Occupancy')\n",
    "ax1.set_ylabel('Occupancy', color='b', alpha=0.5)\n",
    "ax1.tick_params('y', colors='b')\n",
    "\n",
    "ax2 = ax1.twinx()\n",
    "ax2.plot(fstats.freqs, avg_power, marker='.', markersize=3, color='r', alpha=0.5, label='Average Normalised power')\n",
    "ax2.set_ylabel('Average Normalised Power', color='r', alpha=0.5)\n",
    "ax2.tick_params('y', colors='r')\n",
    "ax2.plot([fstats.freqs[0], fstats.freqs[-1]], [abnormal_power, abnormal_power], 'k--', label='Median channel power + 5 sigma')\n",
    "ax2.fill_between(boundary_freqs, boundary_freqs_badmask*ymax, ymin,  color='k', alpha=0.3, label='Bad Channels: power above limit and occupancy > 1%')\n",
    "ax2.set_ylim(ymin, ymax)\n",
    "\n",
    "\n",
    "\n",
    "ax1.set_xlabel('Frequency (MHz)')\n",
    "plt.xlim(fstats.freqs[0], fstats.freqs[-1])\n",
    "\n",
    "plt.legend()\n",
    "\n",
    "\n",
    "\n",
    "plt.tight_layout()\n",
    "plt.savefig('/home/vmorello/Desktop/rfistats_plots/bad_channels.png')\n",
    "plt.close()"
   ]
  },
  {
   "cell_type": "code",
   "execution_count": 54,
   "metadata": {},
   "outputs": [
    {
     "data": {
      "text/plain": [
       "array([[ 1.        ,  0.15212338],\n",
       "       [ 0.15212338,  1.        ]])"
      ]
     },
     "execution_count": 54,
     "metadata": {},
     "output_type": "execute_result"
    }
   ],
   "source": [
    "np.corrcoef(stats['avg_power'].mean(axis=0), stats['occupancy'].mean(axis=0))"
   ]
  },
  {
   "cell_type": "code",
   "execution_count": 38,
   "metadata": {},
   "outputs": [
    {
     "data": {
      "text/plain": [
       "480"
      ]
     },
     "execution_count": 38,
     "metadata": {},
     "output_type": "execute_result"
    }
   ],
   "source": [
    "fil.nsamp // 1634"
   ]
  },
  {
   "cell_type": "code",
   "execution_count": 63,
   "metadata": {
    "collapsed": true
   },
   "outputs": [],
   "source": [
    "\n",
    "mask = (stats['occupancy'].mean(axis=0) > 1e-4) & (stats['avg_power'].mean(axis=0) > 1.5)\n",
    "\n",
    "plt.figure(figsize=(18, 9))\n",
    "plt.bar(range(mask.size), mask, width=1)\n",
    "plt.tight_layout()\n",
    "plt.show()\n"
   ]
  },
  {
   "cell_type": "code",
   "execution_count": 27,
   "metadata": {},
   "outputs": [
    {
     "data": {
      "text/plain": [
       "array([[ 155.62111025,   14.43799739,   13.84727307, ...,   31.32576329,\n",
       "          32.26976392,   32.83732258],\n",
       "       [ 156.64039928,   14.06155542,   14.4032489 , ...,   30.2833086 ,\n",
       "          31.54583706,   32.32767807],\n",
       "       [ 158.56314903,   14.2874206 ,   13.87043873, ...,   32.44929778,\n",
       "          32.64041448,   30.93773849],\n",
       "       ..., \n",
       "       [ 157.88555349,   14.09630391,   14.20634079, ...,   30.97827839,\n",
       "          29.94161512,   31.93965327],\n",
       "       [ 160.69438972,   14.2874206 ,   14.06155542, ...,   32.50142052,\n",
       "          32.92998522,   32.21764119],\n",
       "       [ 151.68873952,   14.22950645,   14.60594842, ...,   30.61341926,\n",
       "          31.63270828,   32.84890541]])"
      ]
     },
     "execution_count": 27,
     "metadata": {},
     "output_type": "execute_result"
    }
   ],
   "source": [
    "fstats.robust_std"
   ]
  },
  {
   "cell_type": "code",
   "execution_count": null,
   "metadata": {
    "collapsed": true
   },
   "outputs": [],
   "source": []
  }
 ],
 "metadata": {
  "kernelspec": {
   "display_name": "Python 3",
   "language": "python",
   "name": "python3"
  },
  "language_info": {
   "codemirror_mode": {
    "name": "ipython",
    "version": 3
   },
   "file_extension": ".py",
   "mimetype": "text/x-python",
   "name": "python",
   "nbconvert_exporter": "python",
   "pygments_lexer": "ipython3",
   "version": "3.6.1"
  }
 },
 "nbformat": 4,
 "nbformat_minor": 2
}
