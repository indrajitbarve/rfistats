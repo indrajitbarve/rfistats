{
 "cells": [
  {
   "cell_type": "code",
   "execution_count": 1,
   "metadata": {
    "collapsed": true
   },
   "outputs": [],
   "source": [
    "import numpy as np\n",
    "import matplotlib.pyplot as plt\n",
    "%matplotlib qt5\n",
    "\n",
    "from workprojects.rfistats.filterbank import Filterbank\n",
    "from workprojects.rfistats import analyse_block"
   ]
  },
  {
   "cell_type": "code",
   "execution_count": 2,
   "metadata": {
    "collapsed": true
   },
   "outputs": [],
   "source": [
    "### LOAD DATA BLOCK\n",
    "fname = '/home/vmorello/work/meertrap/SCP/SCP.fil'\n",
    "fil = Filterbank(fname)\n",
    "\n",
    "istart = 1000\n",
    "nsamp = 2000\n",
    "\n",
    "with open(fil.fname, 'rb') as fobj:\n",
    "    fobj.seek(fil.sample_offset(istart))\n",
    "    data = np.fromfile(fobj, dtype=np.float32, count=nsamp*fil.nchans)\n",
    "    data = data.reshape(nsamp, fil.nchans)"
   ]
  },
  {
   "cell_type": "code",
   "execution_count": 3,
   "metadata": {
    "collapsed": true
   },
   "outputs": [],
   "source": [
    "ndata, mask, stats = analyse_block(data)"
   ]
  },
  {
   "cell_type": "code",
   "execution_count": 9,
   "metadata": {
    "collapsed": true
   },
   "outputs": [],
   "source": [
    "### Plot normalized data\n",
    "plt.figure(figsize=(18, 9))\n",
    "plt.imshow(ndata, cmap=plt.cm.Greys, aspect='auto', vmin=-3, vmax=+6)\n",
    "plt.tight_layout()\n",
    "plt.show()"
   ]
  },
  {
   "cell_type": "code",
   "execution_count": 12,
   "metadata": {},
   "outputs": [
    {
     "ename": "NameError",
     "evalue": "name 'outlier_mask' is not defined",
     "output_type": "error",
     "traceback": [
      "\u001b[0;31m---------------------------------------------------------------------------\u001b[0m",
      "\u001b[0;31mNameError\u001b[0m                                 Traceback (most recent call last)",
      "\u001b[0;32m<ipython-input-12-90c145b4d043>\u001b[0m in \u001b[0;36m<module>\u001b[0;34m()\u001b[0m\n\u001b[1;32m      2\u001b[0m \u001b[0mcpow\u001b[0m \u001b[0;34m=\u001b[0m \u001b[0mnp\u001b[0m\u001b[0;34m.\u001b[0m\u001b[0mmean\u001b[0m\u001b[0;34m(\u001b[0m\u001b[0mndata\u001b[0m\u001b[0;34m**\u001b[0m\u001b[0;36m2\u001b[0m\u001b[0;34m,\u001b[0m \u001b[0maxis\u001b[0m\u001b[0;34m=\u001b[0m\u001b[0;36m0\u001b[0m\u001b[0;34m)\u001b[0m\u001b[0;34m\u001b[0m\u001b[0m\n\u001b[1;32m      3\u001b[0m \u001b[0mcpow_med\u001b[0m \u001b[0;34m=\u001b[0m \u001b[0mnp\u001b[0m\u001b[0;34m.\u001b[0m\u001b[0mmedian\u001b[0m\u001b[0;34m(\u001b[0m\u001b[0mcpow\u001b[0m\u001b[0;34m)\u001b[0m\u001b[0;34m\u001b[0m\u001b[0m\n\u001b[0;32m----> 4\u001b[0;31m \u001b[0mcpow_mask\u001b[0m\u001b[0;34m,\u001b[0m \u001b[0mstats\u001b[0m \u001b[0;34m=\u001b[0m \u001b[0moutlier_mask\u001b[0m\u001b[0;34m(\u001b[0m\u001b[0mcpow\u001b[0m\u001b[0;34m)\u001b[0m\u001b[0;34m\u001b[0m\u001b[0m\n\u001b[0m\u001b[1;32m      5\u001b[0m \u001b[0;34m\u001b[0m\u001b[0m\n\u001b[1;32m      6\u001b[0m \u001b[0mvmin\u001b[0m \u001b[0;34m=\u001b[0m \u001b[0mstats\u001b[0m\u001b[0;34m[\u001b[0m\u001b[0;34m'vmin'\u001b[0m\u001b[0;34m]\u001b[0m\u001b[0;34m\u001b[0m\u001b[0m\n",
      "\u001b[0;31mNameError\u001b[0m: name 'outlier_mask' is not defined"
     ]
    }
   ],
   "source": [
    "### Channel average power (mean of squares)\n",
    "cpow = np.mean(ndata**2, axis=0)\n",
    "cpow_med = np.median(cpow)\n",
    "cpow_mask, stats = outlier_mask(cpow)\n",
    "\n",
    "vmin = stats['vmin']\n",
    "vmax = stats['vmax']\n",
    "\n",
    "\n",
    "plt.figure(figsize=(18, 5))\n",
    "plt.plot(cpow)\n",
    "plt.plot([0, fil.nchans], [vmax, vmax], 'r--')\n",
    "plt.plot([0, fil.nchans], [vmin, vmin], 'r--')\n",
    "plt.xlim(0, fil.nchans)\n",
    "plt.yscale('log')\n",
    "\n",
    "plt.xlabel('Channel Index')\n",
    "plt.ylabel('Average Normalized Power')\n",
    "plt.grid()\n",
    "#plt.ylim(cpow_med - 3 * nsigma * cpow_rstd, cpow_med + 3 * nsigma * cpow_rstd)\n",
    "plt.tight_layout()\n",
    "plt.show()"
   ]
  },
  {
   "cell_type": "code",
   "execution_count": 11,
   "metadata": {
    "collapsed": true
   },
   "outputs": [],
   "source": [
    "from workprojects.rfistats.convolution import BoxcarConvolver\n",
    "from workprojects.rfistats.block_stats import analyse_segment\n",
    "\n",
    "### Plot boxcar-convolved data for one channel\n",
    "ichan = 3357\n",
    "\n",
    "convolver = BoxcarConvolver(nsamp, wmax=256, wtsp=1.5)\n",
    "cdata = ndata[ichan] # channel data\n",
    "stats = analyse_segment(cdata, convolver, thr=6.0)\n",
    "\n",
    "cprod = stats['conv'] # channel conv. products\n",
    "cmask = stats['mask'] # channel occupancy mask\n",
    "\n",
    "plt.figure(figsize=(18, 9))\n",
    "plt.subplot(211)\n",
    "plt.imshow(cprod, cmap=plt.cm.Greys, aspect='auto')\n",
    "plt.ylabel('Boxcar width (samples)', fontsize=12)\n",
    "plt.yticks(range(convolver.widths.size), convolver.widths)\n",
    "\n",
    "ax = plt.subplot(212)\n",
    "plt.plot(cdata, label='Normalized data')\n",
    "# plt.plot(cprod.max(axis=0), label='Best S/N')\n",
    "plt.plot(cmask * cdata.max(), linewidth=0)\n",
    "plt.ylabel('Normalized amplitude', fontsize=12)\n",
    "ax.fill_between(range(nsamp), cmask * cdata.max(), 0, color='r', alpha=0.2, label='Detected pulses')\n",
    "\n",
    "\n",
    "plt.grid()\n",
    "plt.legend(fontsize=12)\n",
    "plt.xlim(0, nsamp)\n",
    "plt.xlabel('Time sample index', fontsize=12)\n",
    "#plt.ylim(cdata.min(), cprod.max() * 1.05)\n",
    "\n",
    "plt.tight_layout()\n",
    "plt.show()\n"
   ]
  },
  {
   "cell_type": "code",
   "execution_count": null,
   "metadata": {
    "collapsed": true
   },
   "outputs": [],
   "source": []
  }
 ],
 "metadata": {
  "kernelspec": {
   "display_name": "Python 3",
   "language": "python",
   "name": "python3"
  },
  "language_info": {
   "codemirror_mode": {
    "name": "ipython",
    "version": 3
   },
   "file_extension": ".py",
   "mimetype": "text/x-python",
   "name": "python",
   "nbconvert_exporter": "python",
   "pygments_lexer": "ipython3",
   "version": "3.6.1"
  }
 },
 "nbformat": 4,
 "nbformat_minor": 2
}
